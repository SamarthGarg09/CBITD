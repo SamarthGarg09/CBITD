{
 "cells": [
  {
   "cell_type": "markdown",
   "id": "61b2b9ec-f996-43d5-bc40-35ce81d63026",
   "metadata": {},
   "source": [
    "# HateXplain Dataset Processing Documentation\n",
    "\n",
    "## Overview\n",
    "The dataset was prepared for finetuning target model by performing tokenization, label aggregation, and mapping target groups to broader categories.\n",
    "\n",
    "---\n",
    "\n",
    "## Steps\n",
    "\n",
    "### 1. Dataset Loading\n",
    "- The dataset was loaded from a JSON file, containing `post_id`, `post_tokens`, and `annotators`.\n",
    "- Key fields included:\n",
    "  - **Labels**: Annotator-provided labels (`normal`, `offensive`, `hatespeech`).\n",
    "  - **Rationales**: Tokens identified as important by annotators.\n",
    "  - **Target Groups**: Specific groups targeted in the post (e.g., `African`, `Christian`, `Women`).\n",
    "\n",
    "---\n",
    "\n",
    "### 2. Preprocessing\n",
    "- **Label Aggregation**: A majority voting mechanism was used to determine the final label. Posts with all different labels were marked as `undecided`.\n",
    "- Text was created by joining tokens.\n",
    "\n",
    "---\n",
    "\n",
    "### 3. Group Mapping\n",
    "Target groups (e.g., `African`, `Christian`) were mapped to broader categories:\n",
    "- **Race**: African, Arabs, Asians, Caucasian, Hispanic\n",
    "- **Religion**: Buddhism, Christian, Hindu, Islam, Jewish\n",
    "- **Gender**: Men, Women\n",
    "- **Sexual Orientation**: Heterosexual, Gay\n",
    "- **Miscellaneous**: Indigenous, Refugee/Immigrant, None, Others\n",
    "\n",
    "---\n",
    "\n",
    "### 4. Dataset Splitting\n",
    "- The dataset was divided into `train`, `val`, and `test` sets based on predefined post IDs.\n",
    "\n",
    "---\n",
    "\n",
    "### 5. Sampling and Filtering\n",
    "- Filtered the dataset to include specific labels (e.g., `label == 0` or `label == 1`).\n",
    "- Sampled posts based on label requirements for balanced representation.\n",
    "\n",
    "---\n",
    "\n",
    "## Final Output\n",
    "The final dataset includes:\n",
    "- **post_id**: Unique identifier for each post.\n",
    "- **text**: Tokenized text.\n",
    "- **attention**: Aggregated attention masks.\n",
    "- **label**: Final aggregated label.\n",
    "- **categories**: Broader categories for target groups.\n",
    "\n",
    "---\n"
   ]
  },
  {
   "cell_type": "code",
   "execution_count": 8,
   "id": "0e726c06-cfbf-4224-906d-e7e5e64afb82",
   "metadata": {},
   "outputs": [],
   "source": [
    "import json\n",
    "\n",
    "# Load the dataset\n",
    "with open('../dataset.json', 'r') as file:\n",
    "    data = json.load(file)\n"
   ]
  },
  {
   "cell_type": "code",
   "execution_count": 9,
   "id": "701b30a1-5a4a-44ba-8996-228ec67a4b24",
   "metadata": {},
   "outputs": [],
   "source": [
    "import pandas as pd\n",
    "pd.set_option('display.max_colwidth', None)\n",
    "\n",
    "# Initialize an empty list to store post data\n",
    "posts_data = []\n",
    "for post_id, content in data.items():\n",
    "    # Combine tokens to reconstruct the original post\n",
    "    post_text = ' '.join(content['post_tokens'])\n",
    "    \n",
    "    # Aggregate annotator labels and targets\n",
    "    labels = [annotator['label'] for annotator in content['annotators']]\n",
    "    targets = [target for annotator in content['annotators'] for target in annotator['target']]\n",
    "    \n",
    "    # Determine the majority label\n",
    "    majority_label = max(set(labels), key=labels.count)\n",
    "    if labels.count(majority_label) == 1:\n",
    "        majority_label = 'undecided'\n",
    "    # Identify unique target communities\n",
    "    unique_targets = list(set(targets))\n",
    "    \n",
    "    # Append the extracted information to the list\n",
    "    posts_data.append({\n",
    "        'post_id': post_id,\n",
    "        'post_text': post_text,\n",
    "        'majority_label': majority_label,\n",
    "        'target_communities': unique_targets\n",
    "    })\n"
   ]
  },
  {
   "cell_type": "code",
   "execution_count": 10,
   "id": "f12d8033-9137-4385-8ed7-fda85106db4b",
   "metadata": {},
   "outputs": [],
   "source": [
    "# Create a DataFrame from the list\n",
    "df = pd.DataFrame(posts_data)\n",
    "# Define all possible target communities\n",
    "all_communities = [\n",
    "    'African', 'Arab', 'Asian', 'Caucasian', 'Hispanic', 'Indian', 'Other',\n",
    "    'Women', 'Homosexual', 'Men', 'Jewish', 'Islam', 'Christian', 'Buddhist',\n",
    "    'Refugee', 'Hindu', 'Disability', 'Economic', 'Heterosexual', 'Gay', 'Indigenous', 'Refugee/Immigrant', 'None', 'Others'\n",
    "]\n",
    "\n",
    "# Initialize columns for each community with default value 0\n",
    "for community in all_communities:\n",
    "    df[community] = 0\n",
    "\n",
    "# Update columns based on the presence of each community in the target_communities list\n",
    "for index, row in df.iterrows():\n",
    "    for community in row['target_communities']:\n",
    "        if community in all_communities:\n",
    "            df.at[index, community] += 1\n",
    "\n",
    "# Define a mapping for labels\n",
    "label_mapping = {'normal': 0, 'offensive': 2, 'hatespeech': 1, 'undecided': 3}\n",
    "\n",
    "# Apply the mapping to the 'majority_label' column\n",
    "df['label'] = df['majority_label'].map(label_mapping)\n",
    "\n",
    "# Select relevant columns\n",
    "final_df = df[['post_id', 'post_text', 'label'] + all_communities]"
   ]
  },
  {
   "cell_type": "code",
   "execution_count": 11,
   "id": "dcfc7593-aaec-4052-8af5-cd8c2aa73b58",
   "metadata": {},
   "outputs": [
    {
     "name": "stderr",
     "output_type": "stream",
     "text": [
      "/tmp/ipykernel_2854676/1934597501.py:17: SettingWithCopyWarning: \n",
      "A value is trying to be set on a copy of a slice from a DataFrame.\n",
      "Try using .loc[row_indexer,col_indexer] = value instead\n",
      "\n",
      "See the caveats in the documentation: https://pandas.pydata.org/pandas-docs/stable/user_guide/indexing.html#returning-a-view-versus-a-copy\n",
      "  df[category] = 0\n"
     ]
    }
   ],
   "source": [
    "import pandas as pd\n",
    "\n",
    "def map_to_categories(df, feature_columns, category_mapping):\n",
    "    \"\"\"\n",
    "    Transform DataFrame so that active features are mapped to corresponding categories.\n",
    "\n",
    "    Parameters:\n",
    "        df (pd.DataFrame): Input DataFrame with feature columns representing target groups.\n",
    "        feature_columns (list): List of columns indicating active features.\n",
    "        category_mapping (dict): Dictionary mapping target groups to their categories.\n",
    "\n",
    "    Returns:\n",
    "        pd.DataFrame: Transformed DataFrame with categories and their active status.\n",
    "    \"\"\"\n",
    "    # Create a new column for each category with default value 0\n",
    "    for category in category_mapping.keys():\n",
    "        df[category] = 0\n",
    "\n",
    "    # Iterate through rows and map active features to categories\n",
    "    for index, row in df.iterrows():\n",
    "        for feature in feature_columns:\n",
    "            if row[feature] == 1:  # Active feature\n",
    "                for category, groups in category_mapping.items():\n",
    "                    if feature in groups:\n",
    "                        df.at[index, category] = 1\n",
    "\n",
    "    return df\n",
    "\n",
    "all_communities = [\n",
    "    'African', 'Arab', 'Asian', 'Caucasian', 'Hispanic', 'Indian', 'Other',\n",
    "    'Women', 'Homosexual', 'Men', 'Jewish', 'Islam', 'Christian', 'Buddhist',\n",
    "    'Refugee', 'Hindu', 'Disability', 'Economic', 'Heterosexual', 'Gay', 'Indigenous', 'Refugee/Immigrant', 'None', 'Others'\n",
    "]\n",
    "category_mapping = {\n",
    "    'Race': ['African', 'Arabs', 'Asians', 'Caucasian', 'Hispanic'],\n",
    "    'Religion': ['Buddhism', 'Christian', 'Hindu', 'Islam', 'Jewish'],\n",
    "    'Gender': ['Men', 'Women'],\n",
    "    'Sexual Orientation': ['Heterosexual', 'Gay'],\n",
    "    'Miscellaneous': ['Indigenous', 'Refugee/Immigrant', 'None', 'Others']\n",
    "}\n",
    "\n",
    "final_df = map_to_categories(final_df, all_communities, category_mapping)\n",
    "final_df.drop(columns=all_communities, inplace=True)\n"
   ]
  },
  {
   "cell_type": "code",
   "execution_count": 12,
   "id": "58be212d-cbc0-4044-9cc5-7584439e2c92",
   "metadata": {
    "scrolled": true
   },
   "outputs": [
    {
     "data": {
      "text/html": [
       "<div>\n",
       "<style scoped>\n",
       "    .dataframe tbody tr th:only-of-type {\n",
       "        vertical-align: middle;\n",
       "    }\n",
       "\n",
       "    .dataframe tbody tr th {\n",
       "        vertical-align: top;\n",
       "    }\n",
       "\n",
       "    .dataframe thead th {\n",
       "        text-align: right;\n",
       "    }\n",
       "</style>\n",
       "<table border=\"1\" class=\"dataframe\">\n",
       "  <thead>\n",
       "    <tr style=\"text-align: right;\">\n",
       "      <th></th>\n",
       "      <th>post_id</th>\n",
       "      <th>post_text</th>\n",
       "      <th>label</th>\n",
       "      <th>Race</th>\n",
       "      <th>Religion</th>\n",
       "      <th>Gender</th>\n",
       "      <th>Sexual Orientation</th>\n",
       "      <th>Miscellaneous</th>\n",
       "    </tr>\n",
       "  </thead>\n",
       "  <tbody>\n",
       "    <tr>\n",
       "      <th>0</th>\n",
       "      <td>1179055004553900032_twitter</td>\n",
       "      <td>i dont think im getting my baby them white 9 he has two white j and nikes not even touched</td>\n",
       "      <td>0.0</td>\n",
       "      <td>0.0</td>\n",
       "      <td>0.0</td>\n",
       "      <td>0.0</td>\n",
       "      <td>0.0</td>\n",
       "      <td>1.0</td>\n",
       "    </tr>\n",
       "    <tr>\n",
       "      <th>1</th>\n",
       "      <td>1179063826874032128_twitter</td>\n",
       "      <td>we cannot continue calling ourselves feminists if the rights of all womxn arent addressed yes to a sexual offences public list but will a trans lesbian bisexual and queer womxn be able to enter their information on the reporting sheet gender forum</td>\n",
       "      <td>0.0</td>\n",
       "      <td>0.0</td>\n",
       "      <td>0.0</td>\n",
       "      <td>0.0</td>\n",
       "      <td>0.0</td>\n",
       "      <td>1.0</td>\n",
       "    </tr>\n",
       "    <tr>\n",
       "      <th>2</th>\n",
       "      <td>1178793830532956161_twitter</td>\n",
       "      <td>nawt yall niggers ignoring me</td>\n",
       "      <td>0.0</td>\n",
       "      <td>1.0</td>\n",
       "      <td>0.0</td>\n",
       "      <td>0.0</td>\n",
       "      <td>0.0</td>\n",
       "      <td>1.0</td>\n",
       "    </tr>\n",
       "    <tr>\n",
       "      <th>3</th>\n",
       "      <td>1179088797964763136_twitter</td>\n",
       "      <td>&lt;user&gt; i am bit confused coz chinese ppl can not access twitter thn how this ching chong using it i think he pakistani 🤔 🤔 🤔</td>\n",
       "      <td>1.0</td>\n",
       "      <td>0.0</td>\n",
       "      <td>0.0</td>\n",
       "      <td>0.0</td>\n",
       "      <td>0.0</td>\n",
       "      <td>0.0</td>\n",
       "    </tr>\n",
       "    <tr>\n",
       "      <th>4</th>\n",
       "      <td>1179085312976445440_twitter</td>\n",
       "      <td>this bitch in whataburger eating a burger with no top bun and holding it palm up i hate white bitches</td>\n",
       "      <td>1.0</td>\n",
       "      <td>1.0</td>\n",
       "      <td>0.0</td>\n",
       "      <td>1.0</td>\n",
       "      <td>0.0</td>\n",
       "      <td>0.0</td>\n",
       "    </tr>\n",
       "  </tbody>\n",
       "</table>\n",
       "</div>"
      ],
      "text/plain": [
       "                       post_id  \\\n",
       "0  1179055004553900032_twitter   \n",
       "1  1179063826874032128_twitter   \n",
       "2  1178793830532956161_twitter   \n",
       "3  1179088797964763136_twitter   \n",
       "4  1179085312976445440_twitter   \n",
       "\n",
       "                                                                                                                                                                                                                                                 post_text  \\\n",
       "0                                                                                                                                                               i dont think im getting my baby them white 9 he has two white j and nikes not even touched   \n",
       "1  we cannot continue calling ourselves feminists if the rights of all womxn arent addressed yes to a sexual offences public list but will a trans lesbian bisexual and queer womxn be able to enter their information on the reporting sheet gender forum   \n",
       "2                                                                                                                                                                                                                            nawt yall niggers ignoring me   \n",
       "3                                                                                                                             <user> i am bit confused coz chinese ppl can not access twitter thn how this ching chong using it i think he pakistani 🤔 🤔 🤔   \n",
       "4                                                                                                                                                    this bitch in whataburger eating a burger with no top bun and holding it palm up i hate white bitches   \n",
       "\n",
       "   label  Race  Religion  Gender  Sexual Orientation  Miscellaneous  \n",
       "0    0.0   0.0       0.0     0.0                 0.0            1.0  \n",
       "1    0.0   0.0       0.0     0.0                 0.0            1.0  \n",
       "2    0.0   1.0       0.0     0.0                 0.0            1.0  \n",
       "3    1.0   0.0       0.0     0.0                 0.0            0.0  \n",
       "4    1.0   1.0       0.0     1.0                 0.0            0.0  "
      ]
     },
     "execution_count": 12,
     "metadata": {},
     "output_type": "execute_result"
    }
   ],
   "source": [
    "final_df = final_df[(final_df.label == 0) | (final_df.label == 1)]\n",
    "final_df[final_df.label==0] = final_df[final_df.label==0].sample(n=5935)\n",
    "final_df.to_csv('../hatexplain_processed.csv', index=False)\n",
    "final_df.head()\n"
   ]
  },
  {
   "cell_type": "code",
   "execution_count": 13,
   "id": "6e3f557e-35fc-4748-85e5-6e8556718818",
   "metadata": {},
   "outputs": [],
   "source": [
    "import ast\n",
    "import os\n",
    "# os.mkdir('../data/', exist_ok=True)\n",
    "\n",
    "with open('../post_id_divisions.json') as f:\n",
    "    split = f.read()\n",
    "split = ast.literal_eval(split)\n",
    "for k, v in split.items():\n",
    "    if k == 'train':\n",
    "        train_df = final_df[final_df.post_id.isin(split[k])]\n",
    "    elif k == 'val':\n",
    "        val_df = final_df[final_df.post_id.isin(split[k])]\n",
    "    else:\n",
    "        test_df = final_df[final_df.post_id.isin(split[k])] \n",
    "\n",
    "train_df.to_csv('../data/hatexplain_train.csv', index=False)\n",
    "val_df.to_csv('../data/hatexplain_val.csv', index=False)\n",
    "test_df.to_csv('../data/hatexplain_test.csv', index=False)"
   ]
  },
  {
   "cell_type": "code",
   "execution_count": 14,
   "id": "f57a19e0-134b-4c1d-adb9-a142d39a1bff",
   "metadata": {},
   "outputs": [
    {
     "data": {
      "text/plain": [
       "Index(['post_id', 'post_text', 'label', 'Race', 'Religion', 'Gender',\n",
       "       'Sexual Orientation', 'Miscellaneous'],\n",
       "      dtype='object')"
      ]
     },
     "execution_count": 14,
     "metadata": {},
     "output_type": "execute_result"
    }
   ],
   "source": [
    "import pandas as pd\n",
    "df = pd.read_csv(\"../data/hatexplain_train.csv\")\n",
    "df.columns"
   ]
  },
  {
   "cell_type": "code",
   "execution_count": 18,
   "id": "cbc2faae-8e2b-4bda-a05c-51e13ac576f8",
   "metadata": {},
   "outputs": [
    {
     "data": {
      "text/plain": [
       "Gender\n",
       "0.0    7857\n",
       "1.0    1648\n",
       "Name: count, dtype: int64"
      ]
     },
     "execution_count": 18,
     "metadata": {},
     "output_type": "execute_result"
    }
   ],
   "source": [
    "df['Gender'].value_counts()"
   ]
  },
  {
   "cell_type": "code",
   "execution_count": 1,
   "id": "166033de-1872-4101-9c5e-0969c7630f96",
   "metadata": {},
   "outputs": [
    {
     "data": {
      "text/plain": [
       "Index(['post_id', 'post_text', 'label', 'Race', 'Religion', 'Gender',\n",
       "       'Sexual Orientation', 'Miscellaneous'],\n",
       "      dtype='object')"
      ]
     },
     "execution_count": 1,
     "metadata": {},
     "output_type": "execute_result"
    }
   ],
   "source": [
    "import pandas as pd\n",
    "df = pd.read_csv(\"../data/hatexplain_train.csv\")\n",
    "df.columns"
   ]
  },
  {
   "cell_type": "code",
   "execution_count": 3,
   "id": "6950c428-25a5-44d4-908f-661e8edc565c",
   "metadata": {},
   "outputs": [
    {
     "data": {
      "text/plain": [
       "Sexual Orientation\n",
       "0.0    9445\n",
       "1.0      60\n",
       "Name: count, dtype: int64"
      ]
     },
     "execution_count": 3,
     "metadata": {},
     "output_type": "execute_result"
    }
   ],
   "source": [
    "df['Sexual Orientation'].value_counts()"
   ]
  }
 ],
 "metadata": {
  "kernelspec": {
   "display_name": "Python 3 (ipykernel)",
   "language": "python",
   "name": "python3"
  },
  "language_info": {
   "codemirror_mode": {
    "name": "ipython",
    "version": 3
   },
   "file_extension": ".py",
   "mimetype": "text/x-python",
   "name": "python",
   "nbconvert_exporter": "python",
   "pygments_lexer": "ipython3",
   "version": "3.11.4"
  }
 },
 "nbformat": 4,
 "nbformat_minor": 5
}
