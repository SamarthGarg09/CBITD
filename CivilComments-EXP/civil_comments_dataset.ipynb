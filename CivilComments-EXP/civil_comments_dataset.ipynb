{
 "cells": [
  {
   "cell_type": "code",
   "execution_count": null,
   "metadata": {
    "scrolled": true
   },
   "outputs": [],
   "source": [
    "import pandas as pd\n",
    "\n",
    "df = pd.read_csv('analysis_sheets/all_data.csv', on_bad_lines='skip')\n",
    "\n",
    "df.head()"
   ]
  },
  {
   "cell_type": "code",
   "execution_count": 56,
   "metadata": {},
   "outputs": [
    {
     "name": "stdout",
     "output_type": "stream",
     "text": [
      "<class 'pandas.core.frame.DataFrame'>\n",
      "Index: 1999512 entries, 0 to 1999515\n",
      "Data columns (total 9 columns):\n",
      " #   Column           Dtype  \n",
      "---  ------           -----  \n",
      " 0   id               int64  \n",
      " 1   comment_text     object \n",
      " 2   toxicity         float64\n",
      " 3   severe_toxicity  float64\n",
      " 4   obscene          float64\n",
      " 5   sexual_explicit  float64\n",
      " 6   identity_attack  float64\n",
      " 7   insult           float64\n",
      " 8   threat           float64\n",
      "dtypes: float64(7), int64(1), object(1)\n",
      "memory usage: 152.6+ MB\n"
     ]
    },
    {
     "data": {
      "text/plain": [
       "((1999512, 9), None)"
      ]
     },
     "execution_count": 56,
     "metadata": {},
     "output_type": "execute_result"
    }
   ],
   "source": [
    "df = df[['id', 'comment_text', 'toxicity', 'severe_toxicity', 'obscene', 'sexual_explicit',\n",
    "       'identity_attack', 'insult', 'threat']]\n",
    "df.dropna(inplace=True)\n",
    "df.shape, df.info()"
   ]
  },
  {
   "cell_type": "code",
   "execution_count": 57,
   "metadata": {},
   "outputs": [
    {
     "data": {
      "text/plain": [
       "Index(['id', 'comment_text', 'toxicity', 'severe_toxicity', 'obscene',\n",
       "       'sexual_explicit', 'identity_attack', 'insult', 'threat'],\n",
       "      dtype='object')"
      ]
     },
     "execution_count": 57,
     "metadata": {},
     "output_type": "execute_result"
    }
   ],
   "source": [
    "df.columns"
   ]
  },
  {
   "cell_type": "markdown",
   "metadata": {},
   "source": [
    "### All the further data analysis will be done here."
   ]
  },
  {
   "cell_type": "code",
   "execution_count": 59,
   "metadata": {},
   "outputs": [
    {
     "data": {
      "text/plain": [
       "(1518502, 9)"
      ]
     },
     "execution_count": 59,
     "metadata": {},
     "output_type": "execute_result"
    }
   ],
   "source": [
    "df = df[~((df['toxicity'] <= 0.5) & ((df['severe_toxicity'] > 0) | (df['obscene'] > 0) | (df['sexual_explicit'] > 0) | (df['identity_attack'] > 0) | (df['insult'] > 0) | (df['threat'] > 0)))]\n",
    "df = df[~((df['toxicity'] > 0.5) & ((df['severe_toxicity'] == 0) & (df['obscene'] == 0) & (df['sexual_explicit'] == 0) & (df['identity_attack'] == 0) & (df['insult'] == 0) & (df['threat'] == 0)))]\n",
    "df.shape"
   ]
  },
  {
   "cell_type": "code",
   "execution_count": 60,
   "metadata": {},
   "outputs": [
    {
     "name": "stdout",
     "output_type": "stream",
     "text": [
      "(50000, 9)\n"
     ]
    }
   ],
   "source": [
    "sub_attrs = ['obscene', 'sexual_explicit','threat', 'insult', 'identity_attack']\n",
    "\n",
    "for attr in sub_attrs:\n",
    "    df[attr] = df[attr].apply(lambda x: 1 if x > 0.0 else 0)\n",
    "    \n",
    "df['toxicity'] = df['toxicity'].apply(lambda x: 1 if x > 0.5 else 0)\n",
    "\n",
    "df = df.groupby('toxicity').apply(lambda x: x.sample(25000)).reset_index(drop=True)\n",
    "print(df.shape)\n",
    "\n",
    "def label_distribution(df):\n",
    "    for attr in sub_attrs:\n",
    "        print(df[attr].value_counts())\n",
    "    print(df['toxicity'].value_counts())\n",
    "    "
   ]
  },
  {
   "cell_type": "code",
   "execution_count": 61,
   "metadata": {},
   "outputs": [
    {
     "data": {
      "text/plain": [
       "((36000, 9), (10000, 9), (4000, 9))"
      ]
     },
     "execution_count": 61,
     "metadata": {},
     "output_type": "execute_result"
    }
   ],
   "source": [
    "from sklearn.model_selection import train_test_split\n",
    "\n",
    "train, test = train_test_split(df, test_size=0.2, stratify=df['toxicity'])\n",
    "train, dev = train_test_split(train, test_size=0.1, stratify=train['toxicity'])\n",
    "\n",
    "train.shape, test.shape, dev.shape"
   ]
  },
  {
   "cell_type": "code",
   "execution_count": 62,
   "metadata": {},
   "outputs": [
    {
     "data": {
      "text/html": [
       "<div>\n",
       "<style scoped>\n",
       "    .dataframe tbody tr th:only-of-type {\n",
       "        vertical-align: middle;\n",
       "    }\n",
       "\n",
       "    .dataframe tbody tr th {\n",
       "        vertical-align: top;\n",
       "    }\n",
       "\n",
       "    .dataframe thead th {\n",
       "        text-align: right;\n",
       "    }\n",
       "</style>\n",
       "<table border=\"1\" class=\"dataframe\">\n",
       "  <thead>\n",
       "    <tr style=\"text-align: right;\">\n",
       "      <th></th>\n",
       "      <th>train</th>\n",
       "      <th>dev</th>\n",
       "      <th>test</th>\n",
       "    </tr>\n",
       "  </thead>\n",
       "  <tbody>\n",
       "    <tr>\n",
       "      <th>obscene</th>\n",
       "      <td>11997</td>\n",
       "      <td>1348</td>\n",
       "      <td>3333</td>\n",
       "    </tr>\n",
       "    <tr>\n",
       "      <th>sexual_explicit</th>\n",
       "      <td>4098</td>\n",
       "      <td>479</td>\n",
       "      <td>1147</td>\n",
       "    </tr>\n",
       "    <tr>\n",
       "      <th>threat</th>\n",
       "      <td>5499</td>\n",
       "      <td>588</td>\n",
       "      <td>1487</td>\n",
       "    </tr>\n",
       "    <tr>\n",
       "      <th>insult</th>\n",
       "      <td>17741</td>\n",
       "      <td>1971</td>\n",
       "      <td>4929</td>\n",
       "    </tr>\n",
       "    <tr>\n",
       "      <th>identity_attack</th>\n",
       "      <td>10441</td>\n",
       "      <td>1150</td>\n",
       "      <td>2898</td>\n",
       "    </tr>\n",
       "    <tr>\n",
       "      <th>toxicity</th>\n",
       "      <td>18000</td>\n",
       "      <td>2000</td>\n",
       "      <td>5000</td>\n",
       "    </tr>\n",
       "  </tbody>\n",
       "</table>\n",
       "</div>"
      ],
      "text/plain": [
       "                 train   dev  test\n",
       "obscene          11997  1348  3333\n",
       "sexual_explicit   4098   479  1147\n",
       "threat            5499   588  1487\n",
       "insult           17741  1971  4929\n",
       "identity_attack  10441  1150  2898\n",
       "toxicity         18000  2000  5000"
      ]
     },
     "execution_count": 62,
     "metadata": {},
     "output_type": "execute_result"
    }
   ],
   "source": [
    "\n",
    "label_distribution_table = pd.DataFrame(columns=['train', 'dev', 'test'])\n",
    "for attr in sub_attrs:\n",
    "    label_distribution_table.loc[attr] = [train[attr].sum(), dev[attr].sum(), test[attr].sum()]\n",
    "label_distribution_table.loc['toxicity'] = [train['toxicity'].sum(), dev['toxicity'].sum(), test['toxicity'].sum()]\n",
    "label_distribution_table"
   ]
  },
  {
   "cell_type": "code",
   "execution_count": 9,
   "metadata": {},
   "outputs": [
    {
     "data": {
      "text/html": [
       "<div>\n",
       "<style scoped>\n",
       "    .dataframe tbody tr th:only-of-type {\n",
       "        vertical-align: middle;\n",
       "    }\n",
       "\n",
       "    .dataframe tbody tr th {\n",
       "        vertical-align: top;\n",
       "    }\n",
       "\n",
       "    .dataframe thead th {\n",
       "        text-align: right;\n",
       "    }\n",
       "</style>\n",
       "<table border=\"1\" class=\"dataframe\">\n",
       "  <thead>\n",
       "    <tr style=\"text-align: right;\">\n",
       "      <th></th>\n",
       "      <th>positive</th>\n",
       "      <th>negative</th>\n",
       "    </tr>\n",
       "  </thead>\n",
       "  <tbody>\n",
       "    <tr>\n",
       "      <th>obscene</th>\n",
       "      <td>6592</td>\n",
       "      <td>29408</td>\n",
       "    </tr>\n",
       "    <tr>\n",
       "      <th>sexual_explicit</th>\n",
       "      <td>4146</td>\n",
       "      <td>31854</td>\n",
       "    </tr>\n",
       "    <tr>\n",
       "      <th>threat</th>\n",
       "      <td>6327</td>\n",
       "      <td>29673</td>\n",
       "    </tr>\n",
       "    <tr>\n",
       "      <th>insult</th>\n",
       "      <td>16136</td>\n",
       "      <td>19864</td>\n",
       "    </tr>\n",
       "    <tr>\n",
       "      <th>identity_attack</th>\n",
       "      <td>13311</td>\n",
       "      <td>22689</td>\n",
       "    </tr>\n",
       "    <tr>\n",
       "      <th>toxicity</th>\n",
       "      <td>4937</td>\n",
       "      <td>31063</td>\n",
       "    </tr>\n",
       "  </tbody>\n",
       "</table>\n",
       "</div>"
      ],
      "text/plain": [
       "                 positive  negative\n",
       "obscene              6592     29408\n",
       "sexual_explicit      4146     31854\n",
       "threat               6327     29673\n",
       "insult              16136     19864\n",
       "identity_attack     13311     22689\n",
       "toxicity             4937     31063"
      ]
     },
     "execution_count": 9,
     "metadata": {},
     "output_type": "execute_result"
    }
   ],
   "source": [
    "\n",
    "def label_distribution_table(df):\n",
    "    label_distribution_table = pd.DataFrame(columns=['positive', 'negative'])\n",
    "    for attr in sub_attrs:\n",
    "        label_distribution_table.loc[attr] = [df[attr].sum(), len(df) - df[attr].sum()]\n",
    "    label_distribution_table.loc['toxicity'] = [df['toxicity'].sum(), len(df) - df['toxicity'].sum()]\n",
    "    return label_distribution_table\n",
    "\n",
    "label_distribution_table(train)"
   ]
  },
  {
   "cell_type": "code",
   "execution_count": 64,
   "metadata": {},
   "outputs": [
    {
     "data": {
      "text/html": [
       "<div>\n",
       "<style scoped>\n",
       "    .dataframe tbody tr th:only-of-type {\n",
       "        vertical-align: middle;\n",
       "    }\n",
       "\n",
       "    .dataframe tbody tr th {\n",
       "        vertical-align: top;\n",
       "    }\n",
       "\n",
       "    .dataframe thead th {\n",
       "        text-align: right;\n",
       "    }\n",
       "</style>\n",
       "<table border=\"1\" class=\"dataframe\">\n",
       "  <thead>\n",
       "    <tr style=\"text-align: right;\">\n",
       "      <th></th>\n",
       "      <th>positive</th>\n",
       "      <th>negative</th>\n",
       "    </tr>\n",
       "  </thead>\n",
       "  <tbody>\n",
       "    <tr>\n",
       "      <th>obscene</th>\n",
       "      <td>1348</td>\n",
       "      <td>2652</td>\n",
       "    </tr>\n",
       "    <tr>\n",
       "      <th>sexual_explicit</th>\n",
       "      <td>479</td>\n",
       "      <td>3521</td>\n",
       "    </tr>\n",
       "    <tr>\n",
       "      <th>threat</th>\n",
       "      <td>588</td>\n",
       "      <td>3412</td>\n",
       "    </tr>\n",
       "    <tr>\n",
       "      <th>insult</th>\n",
       "      <td>1971</td>\n",
       "      <td>2029</td>\n",
       "    </tr>\n",
       "    <tr>\n",
       "      <th>identity_attack</th>\n",
       "      <td>1150</td>\n",
       "      <td>2850</td>\n",
       "    </tr>\n",
       "    <tr>\n",
       "      <th>toxicity</th>\n",
       "      <td>2000</td>\n",
       "      <td>2000</td>\n",
       "    </tr>\n",
       "  </tbody>\n",
       "</table>\n",
       "</div>"
      ],
      "text/plain": [
       "                 positive  negative\n",
       "obscene              1348      2652\n",
       "sexual_explicit       479      3521\n",
       "threat                588      3412\n",
       "insult               1971      2029\n",
       "identity_attack      1150      2850\n",
       "toxicity             2000      2000"
      ]
     },
     "execution_count": 64,
     "metadata": {},
     "output_type": "execute_result"
    }
   ],
   "source": [
    "label_distribution_table(dev)"
   ]
  },
  {
   "cell_type": "code",
   "execution_count": 65,
   "metadata": {},
   "outputs": [
    {
     "data": {
      "text/html": [
       "<div>\n",
       "<style scoped>\n",
       "    .dataframe tbody tr th:only-of-type {\n",
       "        vertical-align: middle;\n",
       "    }\n",
       "\n",
       "    .dataframe tbody tr th {\n",
       "        vertical-align: top;\n",
       "    }\n",
       "\n",
       "    .dataframe thead th {\n",
       "        text-align: right;\n",
       "    }\n",
       "</style>\n",
       "<table border=\"1\" class=\"dataframe\">\n",
       "  <thead>\n",
       "    <tr style=\"text-align: right;\">\n",
       "      <th></th>\n",
       "      <th>positive</th>\n",
       "      <th>negative</th>\n",
       "    </tr>\n",
       "  </thead>\n",
       "  <tbody>\n",
       "    <tr>\n",
       "      <th>obscene</th>\n",
       "      <td>3333</td>\n",
       "      <td>6667</td>\n",
       "    </tr>\n",
       "    <tr>\n",
       "      <th>sexual_explicit</th>\n",
       "      <td>1147</td>\n",
       "      <td>8853</td>\n",
       "    </tr>\n",
       "    <tr>\n",
       "      <th>threat</th>\n",
       "      <td>1487</td>\n",
       "      <td>8513</td>\n",
       "    </tr>\n",
       "    <tr>\n",
       "      <th>insult</th>\n",
       "      <td>4929</td>\n",
       "      <td>5071</td>\n",
       "    </tr>\n",
       "    <tr>\n",
       "      <th>identity_attack</th>\n",
       "      <td>2898</td>\n",
       "      <td>7102</td>\n",
       "    </tr>\n",
       "    <tr>\n",
       "      <th>toxicity</th>\n",
       "      <td>5000</td>\n",
       "      <td>5000</td>\n",
       "    </tr>\n",
       "  </tbody>\n",
       "</table>\n",
       "</div>"
      ],
      "text/plain": [
       "                 positive  negative\n",
       "obscene              3333      6667\n",
       "sexual_explicit      1147      8853\n",
       "threat               1487      8513\n",
       "insult               4929      5071\n",
       "identity_attack      2898      7102\n",
       "toxicity             5000      5000"
      ]
     },
     "execution_count": 65,
     "metadata": {},
     "output_type": "execute_result"
    }
   ],
   "source": [
    "label_distribution_table(test)"
   ]
  },
  {
   "cell_type": "code",
   "execution_count": 37,
   "metadata": {},
   "outputs": [
    {
     "data": {
      "text/html": [
       "<div>\n",
       "<style scoped>\n",
       "    .dataframe tbody tr th:only-of-type {\n",
       "        vertical-align: middle;\n",
       "    }\n",
       "\n",
       "    .dataframe tbody tr th {\n",
       "        vertical-align: top;\n",
       "    }\n",
       "\n",
       "    .dataframe thead th {\n",
       "        text-align: right;\n",
       "    }\n",
       "</style>\n",
       "<table border=\"1\" class=\"dataframe\">\n",
       "  <thead>\n",
       "    <tr style=\"text-align: right;\">\n",
       "      <th></th>\n",
       "      <th>id</th>\n",
       "      <th>comment_text</th>\n",
       "      <th>toxicity</th>\n",
       "      <th>severe_toxicity</th>\n",
       "      <th>obscene</th>\n",
       "      <th>sexual_explicit</th>\n",
       "      <th>identity_attack</th>\n",
       "      <th>insult</th>\n",
       "      <th>threat</th>\n",
       "    </tr>\n",
       "  </thead>\n",
       "  <tbody>\n",
       "    <tr>\n",
       "      <th>9050</th>\n",
       "      <td>5185643</td>\n",
       "      <td>remember .. there's never just one cockroach</td>\n",
       "      <td>0</td>\n",
       "      <td>0.000000</td>\n",
       "      <td>0</td>\n",
       "      <td>0</td>\n",
       "      <td>0</td>\n",
       "      <td>0</td>\n",
       "      <td>0</td>\n",
       "    </tr>\n",
       "    <tr>\n",
       "      <th>66</th>\n",
       "      <td>6113355</td>\n",
       "      <td>Just being dialogical and clarifying the teach...</td>\n",
       "      <td>0</td>\n",
       "      <td>0.000000</td>\n",
       "      <td>0</td>\n",
       "      <td>0</td>\n",
       "      <td>0</td>\n",
       "      <td>0</td>\n",
       "      <td>0</td>\n",
       "    </tr>\n",
       "    <tr>\n",
       "      <th>20445</th>\n",
       "      <td>901465</td>\n",
       "      <td>Isn't it nice to have a President who campaign...</td>\n",
       "      <td>0</td>\n",
       "      <td>0.000000</td>\n",
       "      <td>0</td>\n",
       "      <td>0</td>\n",
       "      <td>0</td>\n",
       "      <td>0</td>\n",
       "      <td>0</td>\n",
       "    </tr>\n",
       "    <tr>\n",
       "      <th>35890</th>\n",
       "      <td>1006573</td>\n",
       "      <td>'\\nI'm glad you brought that up.\\n.\\n…yep, I h...</td>\n",
       "      <td>1</td>\n",
       "      <td>0.026316</td>\n",
       "      <td>1</td>\n",
       "      <td>1</td>\n",
       "      <td>1</td>\n",
       "      <td>1</td>\n",
       "      <td>1</td>\n",
       "    </tr>\n",
       "    <tr>\n",
       "      <th>46436</th>\n",
       "      <td>469308</td>\n",
       "      <td>What a sick and twisted comment. You are demen...</td>\n",
       "      <td>1</td>\n",
       "      <td>0.075758</td>\n",
       "      <td>1</td>\n",
       "      <td>0</td>\n",
       "      <td>1</td>\n",
       "      <td>1</td>\n",
       "      <td>1</td>\n",
       "    </tr>\n",
       "    <tr>\n",
       "      <th>22922</th>\n",
       "      <td>5698084</td>\n",
       "      <td>As Mr. Spock would say, \"Fascinating!\"</td>\n",
       "      <td>0</td>\n",
       "      <td>0.000000</td>\n",
       "      <td>0</td>\n",
       "      <td>0</td>\n",
       "      <td>0</td>\n",
       "      <td>0</td>\n",
       "      <td>0</td>\n",
       "    </tr>\n",
       "    <tr>\n",
       "      <th>17033</th>\n",
       "      <td>6036849</td>\n",
       "      <td>There is no longer any doubt that Mueller's of...</td>\n",
       "      <td>0</td>\n",
       "      <td>0.000000</td>\n",
       "      <td>0</td>\n",
       "      <td>0</td>\n",
       "      <td>0</td>\n",
       "      <td>0</td>\n",
       "      <td>0</td>\n",
       "    </tr>\n",
       "    <tr>\n",
       "      <th>37901</th>\n",
       "      <td>372027</td>\n",
       "      <td>It means treating women like mangy dogs and th...</td>\n",
       "      <td>1</td>\n",
       "      <td>0.150000</td>\n",
       "      <td>1</td>\n",
       "      <td>1</td>\n",
       "      <td>1</td>\n",
       "      <td>1</td>\n",
       "      <td>1</td>\n",
       "    </tr>\n",
       "    <tr>\n",
       "      <th>48522</th>\n",
       "      <td>5332648</td>\n",
       "      <td>Bingo.\\n\\nThis is actually a bad news story ou...</td>\n",
       "      <td>1</td>\n",
       "      <td>0.000000</td>\n",
       "      <td>0</td>\n",
       "      <td>0</td>\n",
       "      <td>0</td>\n",
       "      <td>1</td>\n",
       "      <td>0</td>\n",
       "    </tr>\n",
       "    <tr>\n",
       "      <th>27559</th>\n",
       "      <td>5640442</td>\n",
       "      <td>The power of the Potomac can only be realized ...</td>\n",
       "      <td>1</td>\n",
       "      <td>0.015625</td>\n",
       "      <td>1</td>\n",
       "      <td>0</td>\n",
       "      <td>1</td>\n",
       "      <td>1</td>\n",
       "      <td>1</td>\n",
       "    </tr>\n",
       "  </tbody>\n",
       "</table>\n",
       "</div>"
      ],
      "text/plain": [
       "            id                                       comment_text  toxicity  \\\n",
       "9050   5185643       remember .. there's never just one cockroach         0   \n",
       "66     6113355  Just being dialogical and clarifying the teach...         0   \n",
       "20445   901465  Isn't it nice to have a President who campaign...         0   \n",
       "35890  1006573  '\\nI'm glad you brought that up.\\n.\\n…yep, I h...         1   \n",
       "46436   469308  What a sick and twisted comment. You are demen...         1   \n",
       "22922  5698084             As Mr. Spock would say, \"Fascinating!\"         0   \n",
       "17033  6036849  There is no longer any doubt that Mueller's of...         0   \n",
       "37901   372027  It means treating women like mangy dogs and th...         1   \n",
       "48522  5332648  Bingo.\\n\\nThis is actually a bad news story ou...         1   \n",
       "27559  5640442  The power of the Potomac can only be realized ...         1   \n",
       "\n",
       "       severe_toxicity  obscene  sexual_explicit  identity_attack  insult  \\\n",
       "9050          0.000000        0                0                0       0   \n",
       "66            0.000000        0                0                0       0   \n",
       "20445         0.000000        0                0                0       0   \n",
       "35890         0.026316        1                1                1       1   \n",
       "46436         0.075758        1                0                1       1   \n",
       "22922         0.000000        0                0                0       0   \n",
       "17033         0.000000        0                0                0       0   \n",
       "37901         0.150000        1                1                1       1   \n",
       "48522         0.000000        0                0                0       1   \n",
       "27559         0.015625        1                0                1       1   \n",
       "\n",
       "       threat  \n",
       "9050        0  \n",
       "66          0  \n",
       "20445       0  \n",
       "35890       1  \n",
       "46436       1  \n",
       "22922       0  \n",
       "17033       0  \n",
       "37901       1  \n",
       "48522       0  \n",
       "27559       1  "
      ]
     },
     "execution_count": 37,
     "metadata": {},
     "output_type": "execute_result"
    }
   ],
   "source": [
    "train.sample(10)"
   ]
  },
  {
   "cell_type": "code",
   "execution_count": 66,
   "metadata": {},
   "outputs": [],
   "source": [
    "# save the data\n",
    "train.to_csv('dataset/train.csv', index=False)\n",
    "dev.to_csv('dataset/dev.csv', index=False)\n",
    "test.to_csv('dataset/test.csv', index=False)"
   ]
  },
  {
   "cell_type": "code",
   "execution_count": 2,
   "metadata": {},
   "outputs": [
    {
     "data": {
      "text/plain": [
       "Index(['id', 'comment_text', 'toxicity', 'severe_toxicity', 'obscene',\n",
       "       'sexual_explicit', 'identity_attack', 'insult', 'threat'],\n",
       "      dtype='object')"
      ]
     },
     "execution_count": 2,
     "metadata": {},
     "output_type": "execute_result"
    }
   ],
   "source": [
    "import pandas as pd\n",
    "\n",
    "train = pd.read_csv('dataset/train.csv')\n",
    "train.columns"
   ]
  },
  {
   "cell_type": "code",
   "execution_count": 12,
   "metadata": {},
   "outputs": [
    {
     "name": "stdout",
     "output_type": "stream",
     "text": [
      "Label distributions in the combined dataset:\n",
      "obscene: {0: 1177758, 1: 163043}\n",
      "sexual_explicit: {0: 1264679, 1: 76122}\n",
      "threat: {0: 1222620, 1: 118181}\n",
      "insult: {0: 837553, 1: 503248}\n",
      "identity_attack: {0: 1099283, 1: 241518}\n",
      "toxicity: {0: 1222926, 1: 117875}\n",
      "\n",
      "Label distribution across splits:\n",
      "                  train    dev    test\n",
      "obscene          117677  12971   32395\n",
      "sexual_explicit   55183   6029   14910\n",
      "threat            85340   9471   23370\n",
      "insult           362424  40337  100487\n",
      "identity_attack  173962  19375   48181\n",
      "toxicity          85052   9442   23381\n"
     ]
    }
   ],
   "source": [
    "import pandas as pd\n",
    "from datasets import load_dataset\n",
    "from sklearn.utils import resample\n",
    "\n",
    "dataset = load_dataset('civil_comments')\n",
    "\n",
    "df_train = dataset['train'].to_pandas()\n",
    "df_test = dataset['test'].to_pandas()\n",
    "df_valid = dataset['validation'].to_pandas()\n",
    "\n",
    "df = pd.concat([df_train, df_test, df_valid], ignore_index=True)\n",
    "\n",
    "df = df[~((df['toxicity'] <= 0.5) & ((df['severe_toxicity'] > 0) | (df['obscene'] > 0) | (df['sexual_explicit'] > 0) | (df['identity_attack'] > 0) | (df['insult'] > 0) | (df['threat'] > 0)))]\n",
    "\n",
    "df = df[~((df['toxicity'] > 0.5) & ((df['severe_toxicity'] == 0) & (df['obscene'] == 0) & (df['sexual_explicit'] == 0) & (df['identity_attack'] == 0) & (df['insult'] == 0) & (df['threat'] == 0)))]\n",
    "\n",
    "df = df[['text', 'toxicity', 'severe_toxicity', 'obscene', 'sexual_explicit',\n",
    "         'identity_attack', 'insult', 'threat']]\n",
    "\n",
    "df.dropna(inplace=True)\n",
    "\n",
    "df.reset_index(inplace=True)\n",
    "df.rename(columns={'index': 'id', 'text': 'comment_text'}, inplace=True)\n",
    "\n",
    "sub_attrs = ['obscene', 'sexual_explicit', 'threat', 'insult', 'identity_attack']\n",
    "\n",
    "for attr in sub_attrs:\n",
    "    df[attr] = df[attr].apply(lambda x: 1 if x > 0.0 else 0)\n",
    "\n",
    "df['toxicity'] = df['toxicity'].apply(lambda x: 1 if x > 0.5 else 0)\n",
    "\n",
    "balanced_datasets = []\n",
    "\n",
    "for attr in sub_attrs:\n",
    "\n",
    "    df_pos = df[df[attr] == 1]\n",
    "    df_neg = df[df[attr] == 0]\n",
    "\n",
    "    min_count = min(len(df_pos), len(df_neg))\n",
    "\n",
    "    df_pos_sampled = df_pos.sample(n=min_count, random_state=42)\n",
    "    df_neg_sampled = df_neg.sample(n=min_count, random_state=42)\n",
    "\n",
    "    df_balanced = pd.concat([df_pos_sampled, df_neg_sampled], ignore_index=True)\n",
    "\n",
    "    balanced_datasets.append(df_balanced)\n",
    "\n",
    "df_combined = pd.concat(balanced_datasets, ignore_index=True)\n",
    "df_combined.drop_duplicates(subset='id', inplace=True)\n",
    "df_combined.reset_index(drop=True, inplace=True)\n",
    "\n",
    "def label_distribution(df):\n",
    "    distribution = {}\n",
    "    for attr in sub_attrs + ['toxicity']:\n",
    "        distribution[attr] = df[attr].value_counts().to_dict()\n",
    "    return distribution\n",
    "\n",
    "label_distr = label_distribution(df_combined)\n",
    "print(\"Label distributions in the combined dataset:\")\n",
    "for label, counts in label_distr.items():\n",
    "    print(f\"{label}: {counts}\")\n",
    "\n",
    "from sklearn.model_selection import train_test_split\n",
    "\n",
    "train, test = train_test_split(df_combined, test_size=0.2, random_state=42)\n",
    "train, dev = train_test_split(train, test_size=0.1, random_state=42)\n",
    "\n",
    "def label_distribution_table(df_list, names):\n",
    "    table = pd.DataFrame()\n",
    "    for df, name in zip(df_list, names):\n",
    "        counts = {}\n",
    "        for attr in sub_attrs + ['toxicity']:\n",
    "            counts[attr] = df[attr].sum()\n",
    "        table[name] = counts.values()\n",
    "    table.index = counts.keys()\n",
    "    return table\n",
    "\n",
    "label_table = label_distribution_table([train, dev, test], ['train', 'dev', 'test'])\n",
    "print(\"\\nLabel distribution across splits:\")\n",
    "print(label_table)\n"
   ]
  },
  {
   "cell_type": "code",
   "execution_count": 13,
   "metadata": {},
   "outputs": [],
   "source": [
    "train.to_csv('dataset/train_big.csv', index=False)"
   ]
  },
  {
   "cell_type": "code",
   "execution_count": 8,
   "metadata": {},
   "outputs": [
    {
     "data": {
      "text/html": [
       "<div>\n",
       "<style scoped>\n",
       "    .dataframe tbody tr th:only-of-type {\n",
       "        vertical-align: middle;\n",
       "    }\n",
       "\n",
       "    .dataframe tbody tr th {\n",
       "        vertical-align: top;\n",
       "    }\n",
       "\n",
       "    .dataframe thead th {\n",
       "        text-align: right;\n",
       "    }\n",
       "</style>\n",
       "<table border=\"1\" class=\"dataframe\">\n",
       "  <thead>\n",
       "    <tr style=\"text-align: right;\">\n",
       "      <th></th>\n",
       "      <th>positive</th>\n",
       "      <th>negative</th>\n",
       "    </tr>\n",
       "  </thead>\n",
       "  <tbody>\n",
       "    <tr>\n",
       "      <th>obscene</th>\n",
       "      <td>11997</td>\n",
       "      <td>24003</td>\n",
       "    </tr>\n",
       "    <tr>\n",
       "      <th>sexual_explicit</th>\n",
       "      <td>4098</td>\n",
       "      <td>31902</td>\n",
       "    </tr>\n",
       "    <tr>\n",
       "      <th>threat</th>\n",
       "      <td>5499</td>\n",
       "      <td>30501</td>\n",
       "    </tr>\n",
       "    <tr>\n",
       "      <th>insult</th>\n",
       "      <td>17741</td>\n",
       "      <td>18259</td>\n",
       "    </tr>\n",
       "    <tr>\n",
       "      <th>identity_attack</th>\n",
       "      <td>10441</td>\n",
       "      <td>25559</td>\n",
       "    </tr>\n",
       "    <tr>\n",
       "      <th>toxicity</th>\n",
       "      <td>18000</td>\n",
       "      <td>18000</td>\n",
       "    </tr>\n",
       "  </tbody>\n",
       "</table>\n",
       "</div>"
      ],
      "text/plain": [
       "                 positive  negative\n",
       "obscene             11997     24003\n",
       "sexual_explicit      4098     31902\n",
       "threat               5499     30501\n",
       "insult              17741     18259\n",
       "identity_attack     10441     25559\n",
       "toxicity            18000     18000"
      ]
     },
     "execution_count": 8,
     "metadata": {},
     "output_type": "execute_result"
    }
   ],
   "source": [
    "import pandas as pd\n",
    "\n",
    "train = pd.read_csv('dataset/train.csv')\n",
    "val = pd.read_csv('dataset/dev.csv')\n",
    "test = pd.read_csv('dataset/test.csv')\n",
    "sub_attrs = ['obscene', 'sexual_explicit', 'threat', 'insult', 'identity_attack']\n",
    "\n",
    "def label_distribution_table(df):\n",
    "    label_distribution_table = pd.DataFrame(columns=['positive', 'negative'])\n",
    "    for attr in sub_attrs:\n",
    "        label_distribution_table.loc[attr] = [df[attr].sum(), len(df) - df[attr].sum()]\n",
    "    label_distribution_table.loc['toxicity'] = [df['toxicity'].sum(), len(df) - df['toxicity'].sum()]\n",
    "    return label_distribution_table\n",
    "\n",
    "label_distribution_table(train)"
   ]
  },
  {
   "cell_type": "code",
   "execution_count": 10,
   "metadata": {},
   "outputs": [
    {
     "data": {
      "text/plain": [
       "((36000, 9), (4000, 9), (10000, 9))"
      ]
     },
     "execution_count": 10,
     "metadata": {},
     "output_type": "execute_result"
    }
   ],
   "source": [
    "train.shape, val.shape, test.shape"
   ]
  }
 ],
 "metadata": {
  "kernelspec": {
   "display_name": "Pytorch 2.2.0",
   "language": "python",
   "name": "torch220"
  },
  "language_info": {
   "codemirror_mode": {
    "name": "ipython",
    "version": 3
   },
   "file_extension": ".py",
   "mimetype": "text/x-python",
   "name": "python",
   "nbconvert_exporter": "python",
   "pygments_lexer": "ipython3",
   "version": "3.12.2"
  }
 },
 "nbformat": 4,
 "nbformat_minor": 4
}
